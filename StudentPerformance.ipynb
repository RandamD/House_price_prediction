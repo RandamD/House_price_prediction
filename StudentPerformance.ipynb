{
  "cells": [
    {
      "cell_type": "markdown",
      "metadata": {
        "id": "view-in-github",
        "colab_type": "text"
      },
      "source": [
        "<a href=\"https://colab.research.google.com/github/RandamD/House_price_prediction/blob/main/StudentPerformance.ipynb\" target=\"_parent\"><img src=\"https://colab.research.google.com/assets/colab-badge.svg\" alt=\"Open In Colab\"/></a>"
      ]
    },
    {
      "cell_type": "code",
      "execution_count": 3,
      "metadata": {
        "colab": {
          "base_uri": "https://localhost:8080/",
          "height": 383
        },
        "id": "sEJW0zUyUx8Y",
        "outputId": "e46ed487-4f33-4ca4-a689-5dcc30086dcf"
      },
      "outputs": [
        {
          "output_type": "error",
          "ename": "ModuleNotFoundError",
          "evalue": "No module named 'pyngrok'",
          "traceback": [
            "\u001b[0;31m---------------------------------------------------------------------------\u001b[0m",
            "\u001b[0;31mModuleNotFoundError\u001b[0m                       Traceback (most recent call last)",
            "\u001b[0;32m/tmp/ipython-input-3-2944324310.py\u001b[0m in \u001b[0;36m<cell line: 0>\u001b[0;34m()\u001b[0m\n\u001b[1;32m      1\u001b[0m \u001b[0;32mfrom\u001b[0m \u001b[0mflask\u001b[0m \u001b[0;32mimport\u001b[0m \u001b[0mFlask\u001b[0m\u001b[0;34m,\u001b[0m \u001b[0mrequest\u001b[0m\u001b[0;34m,\u001b[0m \u001b[0mjsonify\u001b[0m\u001b[0;34m\u001b[0m\u001b[0;34m\u001b[0m\u001b[0m\n\u001b[1;32m      2\u001b[0m \u001b[0;34m\u001b[0m\u001b[0m\n\u001b[0;32m----> 3\u001b[0;31m \u001b[0;32mfrom\u001b[0m \u001b[0mpyngrok\u001b[0m \u001b[0;32mimport\u001b[0m \u001b[0mngrok\u001b[0m\u001b[0;34m\u001b[0m\u001b[0;34m\u001b[0m\u001b[0m\n\u001b[0m\u001b[1;32m      4\u001b[0m \u001b[0;32mimport\u001b[0m \u001b[0mpandas\u001b[0m \u001b[0;32mas\u001b[0m \u001b[0mpd\u001b[0m\u001b[0;34m\u001b[0m\u001b[0;34m\u001b[0m\u001b[0m\n\u001b[1;32m      5\u001b[0m \u001b[0;32mimport\u001b[0m \u001b[0mnumpy\u001b[0m \u001b[0;32mas\u001b[0m \u001b[0mnp\u001b[0m\u001b[0;34m\u001b[0m\u001b[0;34m\u001b[0m\u001b[0m\n",
            "\u001b[0;31mModuleNotFoundError\u001b[0m: No module named 'pyngrok'",
            "",
            "\u001b[0;31m---------------------------------------------------------------------------\u001b[0;32m\nNOTE: If your import is failing due to a missing package, you can\nmanually install dependencies using either !pip or !apt.\n\nTo view examples of installing some common dependencies, click the\n\"Open Examples\" button below.\n\u001b[0;31m---------------------------------------------------------------------------\u001b[0m\n"
          ],
          "errorDetails": {
            "actions": [
              {
                "action": "open_url",
                "actionText": "Open Examples",
                "url": "/notebooks/snippets/importing_libraries.ipynb"
              }
            ]
          }
        }
      ],
      "source": [
        "from flask import Flask, request, jsonify\n",
        "\n",
        "from pyngrok import ngrok\n",
        "import pandas as pd\n",
        "import numpy as np\n",
        "from sklearn.model_selection import train_test_split, cross_val_score,KFold\n",
        "from sklearn.preprocessing import LabelEncoder , StandardScaler\n",
        "from sklearn.compose import ColumnTransformer\n",
        "from sklearn.linear_model import LinearRegression\n",
        "from sklearn.pipeline import Pipeline\n",
        "from sklearn.metrics import mean_squared_error, r2_score,confusion_matrix,classification_report,mean_squared_error\n",
        "from sklearn.ensemble import RandomForestRegressor\n",
        "from sklearn.metrics import mean_absolute_error, mean_squared_error, r2_score\n",
        "import matplotlib.pyplot as plt\n",
        "import seaborn as sns\n",
        "import pickle\n",
        "\n",
        "\n",
        "# Initialize Flask app\n",
        "app = Flask(__name__)\n",
        "CORS(app, resources={r\"/\": {\"origins\": \"\"}})\n",
        "\n",
        "# # Load the model and scaler (make sure to run this after saving your model and scaler)\n",
        "# model = pickle.load(open('lin_reg_model.pkl', 'rb'))\n",
        "# scaler = pickle.load(open('scaler.pkl', 'rb'))\n",
        "# encoder = pickle.load(open('encoder.pkl', 'rb'))\n",
        "\n",
        "\n",
        "# Set up your authtoken\n",
        "ngrok.set_auth_token(\"2n48JoTRdodKQP87MZDzWQmOdzd_38ADmTYqLNQQoKJgxQFe3\")  # Replace YOUR_NGROK_AUTHTOKEN with your actual authtoken\n",
        "\n",
        "# Set up ngrok tunnel to expose the app to the internet\n",
        "public_url = ngrok.connect(5000)\n",
        "print(\"Public URL:\", public_url)\n",
        "\n",
        "\n",
        "\n",
        "# Data loading\n",
        "df = pd.read_csv('student_performance.csv')\n",
        "df = df.drop(['StudentID', 'Name'], axis=1)\n",
        "\n",
        "# Encode categorical variables\n",
        "lc = LabelEncoder()\n",
        "df['Gender'] = lc.fit_transform(df['Gender'])\n",
        "df['ParentalSupport'] = lc.fit_transform(df['ParentalSupport'])\n",
        "\n",
        "# Define features and target\n",
        "features = ['Gender', 'AttendanceRate', 'StudyHoursPerWeek', 'PreviousGrade', 'ExtracurricularActivities', 'ParentalSupport']\n",
        "x = df[features]\n",
        "y = df['FinalGrade']\n",
        "\n",
        "# Split the dataset\n",
        "X_train, X_test, y_train, y_test = train_test_split(x, y, test_size=0.2, random_state=42)\n",
        "\n",
        "# Scale numerical features\n",
        "scaler = StandardScaler()\n",
        "X_train_scaled = X_train.copy()\n",
        "X_test_scaled = X_test.copy()\n",
        "X_train_scaled[['StudyHoursPerWeek', 'AttendanceRate']] = scaler.fit_transform(X_train[['StudyHoursPerWeek', 'AttendanceRate']])\n",
        "X_test_scaled[['StudyHoursPerWeek', 'AttendanceRate']] = scaler.transform(X_test[['StudyHoursPerWeek', 'AttendanceRate']])\n",
        "\n",
        "# Train the model\n",
        "linreg = LinearRegression()\n",
        "linreg.fit(X_train_scaled, y_train)\n",
        "\n",
        "# Save the model, scaler, and encoder\n",
        "pickle.dump(linreg, open('/content/lin_reg_model.pkl', 'wb'))\n",
        "pickle.dump(scaler, open('/content/scaler.pkl', 'wb'))\n",
        "pickle.dump(lc, open('/content/encoder.pkl', 'wb'))\n",
        "\n",
        "# Load the model and scaler\n",
        "model = pickle.load(open('/content/lin_reg_model.pkl', 'rb'))\n",
        "scaler = pickle.load(open('/content/scaler.pkl', 'rb'))\n",
        "encoder = pickle.load(open('/content/encoder.pkl', 'rb'))\n",
        "\n",
        "\n",
        "\n",
        "@app.route('/data', methods=['POST'])\n",
        "def get_data():\n",
        "    data = request.json\n",
        "    print(\"Received data:\", data)\n",
        "\n",
        "    # Create a DataFrame from the incoming JSON data\n",
        "    df_input = pd.DataFrame([data])\n",
        "\n",
        "    # Encode categorical variables\n",
        "    df_input['Gender'] = df_input['Gender'].map({'Male': 1, 'Female': 0})\n",
        "    df_input['ParentalSupport'] = df_input['ParentalSupport'].map({'Low': 0, 'Medium': 1, 'High': 2})\n",
        "    df_input.fillna(0, inplace=True)\n",
        "\n",
        "    # Ensure DataFrame has correct columns and order\n",
        "    df_input = df_input[features]\n",
        "\n",
        "    # Scale numerical features (only scale the features that were scaled during training)\n",
        "    df_input[['StudyHoursPerWeek', 'AttendanceRate']] = scaler.transform(df_input[['StudyHoursPerWeek', 'AttendanceRate']])\n",
        "\n",
        "    # Make predictions\n",
        "    prediction = model.predict(df_input)\n",
        "\n",
        "    response = {\"message\": \"Prediction successful\", \"predicted_final_grade\": prediction[0]}\n",
        "    return jsonify(response)\n",
        "\n",
        "if __name__ == '__main__':\n",
        "    app.run(port=5000)"
      ]
    },
    {
      "cell_type": "code",
      "execution_count": null,
      "metadata": {
        "id": "NpSH-fDPfY6c"
      },
      "outputs": [],
      "source": [
        "!pip install Flask-Cors"
      ]
    },
    {
      "cell_type": "code",
      "execution_count": null,
      "metadata": {
        "id": "e-zjsrnvRrw7"
      },
      "outputs": [],
      "source": [
        "!ngrok kill"
      ]
    },
    {
      "cell_type": "code",
      "execution_count": null,
      "metadata": {
        "id": "OyRNudM1R2MV"
      },
      "outputs": [],
      "source": [
        "import pandas as pd\n",
        "import numpy as np\n",
        "from sklearn.model_selection import train_test_split, cross_val_score,KFold\n",
        "from sklearn.preprocessing import LabelEncoder , StandardScaler\n",
        "from sklearn.compose import ColumnTransformer\n",
        "from sklearn.linear_model import LinearRegression\n",
        "from sklearn.pipeline import Pipeline\n",
        "from sklearn.metrics import mean_squared_error, r2_score,confusion_matrix,classification_report,mean_squared_error\n",
        "from sklearn.ensemble import RandomForestRegressor\n",
        "from sklearn.metrics import mean_absolute_error, mean_squared_error, r2_score\n",
        "import matplotlib.pyplot as plt\n",
        "import seaborn as sns\n",
        "import pickle"
      ]
    },
    {
      "cell_type": "code",
      "execution_count": null,
      "metadata": {
        "id": "zwKF5m7KPFfu"
      },
      "outputs": [],
      "source": [
        "!pip install pyngrok"
      ]
    },
    {
      "cell_type": "code",
      "execution_count": null,
      "metadata": {
        "id": "P9u95FGqSLnp"
      },
      "outputs": [],
      "source": []
    },
    {
      "cell_type": "code",
      "execution_count": null,
      "metadata": {
        "id": "DpcSUhD0SFah"
      },
      "outputs": [],
      "source": [
        "df= pd.read_csv('student_performance.csv')"
      ]
    },
    {
      "cell_type": "code",
      "execution_count": null,
      "metadata": {
        "id": "_fPhH6rcSUEp"
      },
      "outputs": [],
      "source": [
        "df"
      ]
    },
    {
      "cell_type": "code",
      "execution_count": null,
      "metadata": {
        "id": "hyIgY1WKSY9d"
      },
      "outputs": [],
      "source": [
        "df.shape"
      ]
    },
    {
      "cell_type": "code",
      "execution_count": null,
      "metadata": {
        "id": "9jqOhUigSdfX"
      },
      "outputs": [],
      "source": [
        "df['Gender'].value_counts()"
      ]
    },
    {
      "cell_type": "code",
      "execution_count": null,
      "metadata": {
        "id": "rY-mtaGRSrCq"
      },
      "outputs": [],
      "source": [
        "df=df.drop(['StudentID','Name'],axis=1)"
      ]
    },
    {
      "cell_type": "code",
      "execution_count": null,
      "metadata": {
        "id": "zZLrpccpSwkn"
      },
      "outputs": [],
      "source": [
        "df"
      ]
    },
    {
      "cell_type": "code",
      "execution_count": null,
      "metadata": {
        "id": "qvUlhEfaS1gg"
      },
      "outputs": [],
      "source": [
        "lc=LabelEncoder()\n",
        "df['Gender']=lc.fit_transform(df['Gender'])\n",
        "df['ParentalSupport']=lc.fit_transform(df['ParentalSupport'])\n",
        "df"
      ]
    },
    {
      "cell_type": "code",
      "execution_count": null,
      "metadata": {
        "id": "ud0xgM-CTPqf"
      },
      "outputs": [],
      "source": [
        "features = ['Gender', 'AttendanceRate', 'StudyHoursPerWeek', 'PreviousGrade', 'ExtracurricularActivities', 'ParentalSupport']\n",
        "x=df[features]\n",
        "y=df['FinalGrade']"
      ]
    },
    {
      "cell_type": "code",
      "execution_count": null,
      "metadata": {
        "id": "n46gFPpGTgB9"
      },
      "outputs": [],
      "source": [
        "X_train,X_test,y_train,y_test=train_test_split(x,y,test_size=0.2,random_state=42)\n",
        "X_train.shape,X_test.shape\n",
        "scaler=StandardScaler()"
      ]
    },
    {
      "cell_type": "code",
      "execution_count": null,
      "metadata": {
        "id": "EJAB0gzDUADh"
      },
      "outputs": [],
      "source": [
        "X_train.shape,X_test.shape"
      ]
    },
    {
      "cell_type": "code",
      "execution_count": null,
      "metadata": {
        "id": "qrKI7lwIURDT"
      },
      "outputs": [],
      "source": []
    },
    {
      "cell_type": "code",
      "execution_count": null,
      "metadata": {
        "id": "iPlz9JckUSL3"
      },
      "outputs": [],
      "source": [
        "scaler=StandardScaler()"
      ]
    },
    {
      "cell_type": "code",
      "execution_count": null,
      "metadata": {
        "id": "up8_hOllUWdE"
      },
      "outputs": [],
      "source": [
        "X_train_scaled=X_train\n",
        "X_test_scaled = X_test"
      ]
    },
    {
      "cell_type": "code",
      "execution_count": null,
      "metadata": {
        "id": "aHcyf7zAUnZ_"
      },
      "outputs": [],
      "source": [
        "X_train_scaled[['StudyHoursPerWeek','AttendanceRate']]=scaler.fit_transform(X_train[['StudyHoursPerWeek','AttendanceRate']])\n",
        "X_test_scaled[['StudyHoursPerWeek','AttendanceRate']]=scaler.transform(X_test[['StudyHoursPerWeek','AttendanceRate']])"
      ]
    },
    {
      "cell_type": "code",
      "execution_count": null,
      "metadata": {
        "id": "_UbqxHUqVMVa"
      },
      "outputs": [],
      "source": [
        "X_train_scaled"
      ]
    },
    {
      "cell_type": "code",
      "execution_count": null,
      "metadata": {
        "id": "ffL-e8FPV36k"
      },
      "outputs": [],
      "source": [
        "correlation_matrix  = x.corrwith(y, axis=0)\n",
        "correlation_matrix=correlation_matrix.sort_values()\n",
        "print(correlation_matrix)"
      ]
    },
    {
      "cell_type": "code",
      "execution_count": null,
      "metadata": {
        "id": "q1ilNuMVWF2_"
      },
      "outputs": [],
      "source": [
        "correlation_df=pd.DataFrame(correlation_matrix,columns=['correlation'])\n",
        "correlation_df"
      ]
    },
    {
      "cell_type": "code",
      "execution_count": null,
      "metadata": {
        "id": "yzsFxyv9WLzZ"
      },
      "outputs": [],
      "source": [
        "\n",
        "\n",
        "numeric_df = df.select_dtypes(include=np.number)\n",
        "\n",
        "plt.figure(figsize=(10, 10)) # now plt is defined and can be used to access functions like figure\n",
        "plt.title('Relations among Features and FinalGrades')\n",
        "# Use the numeric DataFrame for correlation calculation\n",
        "sns.heatmap(numeric_df.corr(), annot=True, cmap='coolwarm')\n",
        "plt.show()"
      ]
    },
    {
      "cell_type": "code",
      "execution_count": null,
      "metadata": {
        "id": "sFQOhgoqWvVt"
      },
      "outputs": [],
      "source": [
        "def correlation(dataset, threshold,target):\n",
        "  col_corr=set()\n",
        "  corr_matrix=dataset.corrwith(target,axis=0)\n",
        "  for i in range(len(corr_matrix)):\n",
        "    if abs(corr_matrix.iloc[i])>threshold:\n",
        "      colname=dataset.columns[i]\n",
        "      col_corr.add(colname+': '+str(abs(corr_matrix.iloc[i])))\n",
        "  return col_corr"
      ]
    },
    {
      "cell_type": "code",
      "execution_count": null,
      "metadata": {
        "id": "z-8SbGNWW3ks"
      },
      "outputs": [],
      "source": [
        "col_corr=correlation(x,threshold=0.9,target=y)\n",
        "col_corr"
      ]
    },
    {
      "cell_type": "code",
      "execution_count": null,
      "metadata": {
        "id": "DQRkezF9W7Yd"
      },
      "outputs": [],
      "source": [
        "linreg=LinearRegression()\n",
        "linreg.fit(X_train_scaled,y_train)\n",
        "y_pred=linreg.predict(X_test_scaled)\n",
        "\n",
        "y_pred"
      ]
    },
    {
      "cell_type": "code",
      "execution_count": null,
      "metadata": {
        "id": "2xL_Q26JW_G9"
      },
      "outputs": [],
      "source": [
        "mae=mean_absolute_error(y_test,y_pred)\n",
        "score=r2_score(y_test,y_pred)\n",
        "mse=mean_squared_error(y_test,y_pred)\n",
        "rmse=np.sqrt(mse)\n",
        "print(\"Mean Absolute Error : \",mae)\n",
        "print(\"Mean Squared Error : \",mse)\n",
        "print(\"Root Mean Squared Error : \",rmse)\n",
        "print(\"R2 Score : \",score)"
      ]
    },
    {
      "cell_type": "code",
      "execution_count": null,
      "metadata": {
        "id": "izpdr2KpXDDm"
      },
      "outputs": [],
      "source": [
        "plt.scatter(y_test,y_pred)"
      ]
    },
    {
      "cell_type": "code",
      "execution_count": null,
      "metadata": {
        "id": "BzbZ4dvxXL0j"
      },
      "outputs": [],
      "source": [
        "\n",
        "\n",
        "pickle.dump(linreg, open('lin_reg_mode.pkl', 'wb'))"
      ]
    },
    {
      "cell_type": "code",
      "execution_count": null,
      "metadata": {
        "id": "psHlmaGqXcAg"
      },
      "outputs": [],
      "source": [
        "model=pickle.load(open('lin_reg_mode.pkl','rb'))"
      ]
    },
    {
      "cell_type": "code",
      "execution_count": null,
      "metadata": {
        "id": "pmlo50tJXfln"
      },
      "outputs": [],
      "source": [
        "pickle.dump(scaler,open('scaler.pkl','wb'))"
      ]
    },
    {
      "cell_type": "code",
      "execution_count": null,
      "metadata": {
        "id": "Eq5HbIK-Xi5E"
      },
      "outputs": [],
      "source": [
        "pickle.dump(scaler,open('encoder.pkl','wb'))"
      ]
    },
    {
      "cell_type": "code",
      "execution_count": null,
      "metadata": {
        "id": "Y8JyY7gnXnDu"
      },
      "outputs": [],
      "source": [
        "model.predict(X_test_scaled)"
      ]
    },
    {
      "cell_type": "code",
      "execution_count": null,
      "metadata": {
        "id": "6Yv_vglAXqBo"
      },
      "outputs": [],
      "source": [
        "y_test,y_pred"
      ]
    },
    {
      "cell_type": "code",
      "execution_count": null,
      "metadata": {
        "id": "8AMCguX_XtOP"
      },
      "outputs": [],
      "source": [
        "kfold=KFold(n_splits=5,shuffle=True,random_state=42)\n",
        "scores=cross_val_score(linreg,x,y,cv=kfold)\n",
        "print(scores)"
      ]
    },
    {
      "cell_type": "code",
      "metadata": {
        "colab": {
          "base_uri": "https://localhost:8080/"
        },
        "id": "63b9432b",
        "outputId": "33bc5d1a-23b6-4c74-9a61-73a3d52a44ba"
      },
      "source": [
        "!pip install pyngrok"
      ],
      "execution_count": 4,
      "outputs": [
        {
          "output_type": "stream",
          "name": "stderr",
          "text": [
            "ERROR:root:Unexpected exception finding object shape\n",
            "Traceback (most recent call last):\n",
            "  File \"/usr/local/lib/python3.11/dist-packages/google/colab/_debugpy_repr.py\", line 54, in get_shape\n",
            "    shape = getattr(obj, 'shape', None)\n",
            "            ^^^^^^^^^^^^^^^^^^^^^^^^^^^\n",
            "  File \"/usr/local/lib/python3.11/dist-packages/werkzeug/local.py\", line 318, in __get__\n",
            "    obj = instance._get_current_object()\n",
            "          ^^^^^^^^^^^^^^^^^^^^^^^^^^^^^^\n",
            "  File \"/usr/local/lib/python3.11/dist-packages/werkzeug/local.py\", line 519, in _get_current_object\n",
            "    raise RuntimeError(unbound_message) from None\n",
            "RuntimeError: Working outside of request context.\n",
            "\n",
            "This typically means that you attempted to use functionality that needed\n",
            "an active HTTP request. Consult the documentation on testing for\n",
            "information about how to avoid this problem.\n"
          ]
        },
        {
          "output_type": "stream",
          "name": "stdout",
          "text": [
            "Collecting pyngrok\n",
            "  Downloading pyngrok-7.2.11-py3-none-any.whl.metadata (9.4 kB)\n",
            "Requirement already satisfied: PyYAML>=5.1 in /usr/local/lib/python3.11/dist-packages (from pyngrok) (6.0.2)\n",
            "Downloading pyngrok-7.2.11-py3-none-any.whl (25 kB)\n"
          ]
        },
        {
          "output_type": "stream",
          "name": "stderr",
          "text": [
            "ERROR:root:Unexpected exception finding object shape\n",
            "Traceback (most recent call last):\n",
            "  File \"/usr/local/lib/python3.11/dist-packages/google/colab/_debugpy_repr.py\", line 54, in get_shape\n",
            "    shape = getattr(obj, 'shape', None)\n",
            "            ^^^^^^^^^^^^^^^^^^^^^^^^^^^\n",
            "  File \"/usr/local/lib/python3.11/dist-packages/werkzeug/local.py\", line 318, in __get__\n",
            "    obj = instance._get_current_object()\n",
            "          ^^^^^^^^^^^^^^^^^^^^^^^^^^^^^^\n",
            "  File \"/usr/local/lib/python3.11/dist-packages/werkzeug/local.py\", line 519, in _get_current_object\n",
            "    raise RuntimeError(unbound_message) from None\n",
            "RuntimeError: Working outside of request context.\n",
            "\n",
            "This typically means that you attempted to use functionality that needed\n",
            "an active HTTP request. Consult the documentation on testing for\n",
            "information about how to avoid this problem.\n",
            "ERROR:root:Unexpected exception finding object shape\n",
            "Traceback (most recent call last):\n",
            "  File \"/usr/local/lib/python3.11/dist-packages/google/colab/_debugpy_repr.py\", line 54, in get_shape\n",
            "    shape = getattr(obj, 'shape', None)\n",
            "            ^^^^^^^^^^^^^^^^^^^^^^^^^^^\n",
            "  File \"/usr/local/lib/python3.11/dist-packages/werkzeug/local.py\", line 318, in __get__\n",
            "    obj = instance._get_current_object()\n",
            "          ^^^^^^^^^^^^^^^^^^^^^^^^^^^^^^\n",
            "  File \"/usr/local/lib/python3.11/dist-packages/werkzeug/local.py\", line 519, in _get_current_object\n",
            "    raise RuntimeError(unbound_message) from None\n",
            "RuntimeError: Working outside of request context.\n",
            "\n",
            "This typically means that you attempted to use functionality that needed\n",
            "an active HTTP request. Consult the documentation on testing for\n",
            "information about how to avoid this problem.\n"
          ]
        },
        {
          "output_type": "stream",
          "name": "stdout",
          "text": [
            "Installing collected packages: pyngrok\n",
            "Successfully installed pyngrok-7.2.11\n"
          ]
        },
        {
          "output_type": "stream",
          "name": "stderr",
          "text": [
            "ERROR:root:Unexpected exception finding object shape\n",
            "Traceback (most recent call last):\n",
            "  File \"/usr/local/lib/python3.11/dist-packages/google/colab/_debugpy_repr.py\", line 54, in get_shape\n",
            "    shape = getattr(obj, 'shape', None)\n",
            "            ^^^^^^^^^^^^^^^^^^^^^^^^^^^\n",
            "  File \"/usr/local/lib/python3.11/dist-packages/werkzeug/local.py\", line 318, in __get__\n",
            "    obj = instance._get_current_object()\n",
            "          ^^^^^^^^^^^^^^^^^^^^^^^^^^^^^^\n",
            "  File \"/usr/local/lib/python3.11/dist-packages/werkzeug/local.py\", line 519, in _get_current_object\n",
            "    raise RuntimeError(unbound_message) from None\n",
            "RuntimeError: Working outside of request context.\n",
            "\n",
            "This typically means that you attempted to use functionality that needed\n",
            "an active HTTP request. Consult the documentation on testing for\n",
            "information about how to avoid this problem.\n",
            "ERROR:root:Unexpected exception finding object shape\n",
            "Traceback (most recent call last):\n",
            "  File \"/usr/local/lib/python3.11/dist-packages/google/colab/_debugpy_repr.py\", line 54, in get_shape\n",
            "    shape = getattr(obj, 'shape', None)\n",
            "            ^^^^^^^^^^^^^^^^^^^^^^^^^^^\n",
            "  File \"/usr/local/lib/python3.11/dist-packages/werkzeug/local.py\", line 318, in __get__\n",
            "    obj = instance._get_current_object()\n",
            "          ^^^^^^^^^^^^^^^^^^^^^^^^^^^^^^\n",
            "  File \"/usr/local/lib/python3.11/dist-packages/werkzeug/local.py\", line 519, in _get_current_object\n",
            "    raise RuntimeError(unbound_message) from None\n",
            "RuntimeError: Working outside of request context.\n",
            "\n",
            "This typically means that you attempted to use functionality that needed\n",
            "an active HTTP request. Consult the documentation on testing for\n",
            "information about how to avoid this problem.\n",
            "ERROR:root:Unexpected exception finding object shape\n",
            "Traceback (most recent call last):\n",
            "  File \"/usr/local/lib/python3.11/dist-packages/google/colab/_debugpy_repr.py\", line 54, in get_shape\n",
            "    shape = getattr(obj, 'shape', None)\n",
            "            ^^^^^^^^^^^^^^^^^^^^^^^^^^^\n",
            "  File \"/usr/local/lib/python3.11/dist-packages/werkzeug/local.py\", line 318, in __get__\n",
            "    obj = instance._get_current_object()\n",
            "          ^^^^^^^^^^^^^^^^^^^^^^^^^^^^^^\n",
            "  File \"/usr/local/lib/python3.11/dist-packages/werkzeug/local.py\", line 519, in _get_current_object\n",
            "    raise RuntimeError(unbound_message) from None\n",
            "RuntimeError: Working outside of request context.\n",
            "\n",
            "This typically means that you attempted to use functionality that needed\n",
            "an active HTTP request. Consult the documentation on testing for\n",
            "information about how to avoid this problem.\n",
            "ERROR:root:Unexpected exception finding object shape\n",
            "Traceback (most recent call last):\n",
            "  File \"/usr/local/lib/python3.11/dist-packages/google/colab/_debugpy_repr.py\", line 54, in get_shape\n",
            "    shape = getattr(obj, 'shape', None)\n",
            "            ^^^^^^^^^^^^^^^^^^^^^^^^^^^\n",
            "  File \"/usr/local/lib/python3.11/dist-packages/werkzeug/local.py\", line 318, in __get__\n",
            "    obj = instance._get_current_object()\n",
            "          ^^^^^^^^^^^^^^^^^^^^^^^^^^^^^^\n",
            "  File \"/usr/local/lib/python3.11/dist-packages/werkzeug/local.py\", line 519, in _get_current_object\n",
            "    raise RuntimeError(unbound_message) from None\n",
            "RuntimeError: Working outside of request context.\n",
            "\n",
            "This typically means that you attempted to use functionality that needed\n",
            "an active HTTP request. Consult the documentation on testing for\n",
            "information about how to avoid this problem.\n"
          ]
        }
      ]
    }
  ],
  "metadata": {
    "colab": {
      "provenance": [],
      "include_colab_link": true
    },
    "kernelspec": {
      "display_name": "Python 3",
      "name": "python3"
    },
    "language_info": {
      "name": "python"
    }
  },
  "nbformat": 4,
  "nbformat_minor": 0
}